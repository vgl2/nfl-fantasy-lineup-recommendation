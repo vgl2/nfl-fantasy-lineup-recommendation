{
 "cells": [
  {
   "cell_type": "markdown",
   "id": "cca8a7d6-289f-46d1-a918-98afd3f0a0f1",
   "metadata": {},
   "source": [
    "## Fantasy NFL predictions for optimal roster by week\n",
    "### This model will generate the optimal roster to start based on your own roster and the free agent pool. Currently only performs on QB, RB, WR, and TE as well as FLEX"
   ]
  },
  {
   "cell_type": "markdown",
   "id": "a37a1449-e94c-4503-9b5b-f1f394c9ac63",
   "metadata": {},
   "source": [
    "## Model imports \n",
    "### Please make sure the following packages are installed (either with pip or conda)\n",
    "#### numpy, pandas, warnings, nfl_data_py and catboost, espn_api, sleeperpy and yahoo_fantasy_api\n",
    "#### Note - if you are running this on your local machine using Anaconda, please use conda instead of pip"
   ]
  },
  {
   "cell_type": "code",
   "execution_count": null,
   "id": "c997734a-c1f6-4bf7-9788-32bc6a286085",
   "metadata": {
    "tags": []
   },
   "outputs": [],
   "source": [
    "import numpy as np\n",
    "import pandas as pd\n",
    "%run fantasy_football_recommender.ipynb\n",
    "import warnings\n",
    "pd.options.mode.chained_assignment = None\n",
    "warnings.simplefilter(action=\"ignore\", category=pd.errors.PerformanceWarning)\n",
    "pd.set_option(\"display.max_columns\",None)"
   ]
  },
  {
   "cell_type": "markdown",
   "id": "0aa73274-ca8e-4d66-a60a-2c200f089104",
   "metadata": {},
   "source": [
    "#### Download all of the files needed from NFLFastR"
   ]
  },
  {
   "cell_type": "code",
   "execution_count": null,
   "id": "e296a750-562d-43ac-89d0-8fb4d8bd2805",
   "metadata": {
    "tags": []
   },
   "outputs": [],
   "source": [
    "df_weekly_stats,df_schedules,df_draft_picks,df_rosters,df_injuries,df_contracts,df_ids = obtain_nfl_data()"
   ]
  },
  {
   "cell_type": "markdown",
   "id": "c93f18f2-d653-4b3f-812d-3bfaab136480",
   "metadata": {},
   "source": [
    "#### Data cleaning for injury files"
   ]
  },
  {
   "cell_type": "code",
   "execution_count": null,
   "id": "68636a36-b65e-4909-b6d1-39dd1661dd2d",
   "metadata": {
    "tags": []
   },
   "outputs": [],
   "source": [
    "df_injuries_use = clean_injuries(df_injuries)"
   ]
  },
  {
   "cell_type": "markdown",
   "id": "350bae15-634b-46ab-b8b3-0f398c9effa0",
   "metadata": {},
   "source": [
    "#### Split players into categories - Currently only supports QB, RB, WR, and TE"
   ]
  },
  {
   "cell_type": "code",
   "execution_count": null,
   "id": "8d917ccd-605b-449a-9599-034ef58baae7",
   "metadata": {
    "tags": []
   },
   "outputs": [],
   "source": [
    "df_qbs,df_rbs,df_wrs,df_tes = split_players(df_weekly_stats)"
   ]
  },
  {
   "cell_type": "markdown",
   "id": "39abe258-64e8-434f-bbde-6196c24e6473",
   "metadata": {},
   "source": [
    "#### Perform feature engineering for models"
   ]
  },
  {
   "cell_type": "code",
   "execution_count": null,
   "id": "1b63f93b-2477-4857-8470-a51d21b71b85",
   "metadata": {
    "tags": []
   },
   "outputs": [],
   "source": [
    "df_qbs_fe = feature_engineering(df_qbs,df_rosters,df_injuries_use,df_schedules,df_contracts,\"QB\")\n",
    "print(\"Done with qbs\")\n",
    "df_rbs_fe = feature_engineering(df_rbs,df_rosters,df_injuries_use,df_schedules,df_contracts,\"RB\")\n",
    "print(\"Done with rbs\")\n",
    "df_wrs_fe = feature_engineering(df_wrs,df_rosters,df_injuries_use,df_schedules,df_contracts,\"WR\")\n",
    "print(\"Done with wrs\")\n",
    "df_tes_fe = feature_engineering(df_tes,df_rosters,df_injuries_use,df_schedules,df_contracts,\"TE\")\n",
    "print(\"Done with tes\")"
   ]
  },
  {
   "cell_type": "markdown",
   "id": "660a2bfd-3402-4784-8fa1-bccb5051572a",
   "metadata": {},
   "source": [
    "#### Read the model files and necessary features needed for model"
   ]
  },
  {
   "cell_type": "code",
   "execution_count": null,
   "id": "54acdb20-8ae9-4adc-bae1-781fe9c1c49c",
   "metadata": {
    "tags": []
   },
   "outputs": [],
   "source": [
    "qb_features_df = pd.read_csv(\"qb_weekly_model_v2_hyperparameter_tuned.csv\")\n",
    "qb_model_path = \"qb_weekly_model_v2_hyperparameter_tuned.cbm\"\n",
    "rb_features_df = pd.read_csv(\"rb_weekly_model_v2_hyperparameter_tuned.csv\")\n",
    "rb_model_path = \"rb_weekly_model_v2_hyperparameter_tuned.cbm\"\n",
    "wr_features_df = pd.read_csv(\"wr_weekly_model_v2_hyperparameter_tuned.csv\")\n",
    "wr_model_path = \"wr_weekly_model_v2_hyperparameter_tuned.cbm\"\n",
    "te_features_df = pd.read_csv(\"te_weekly_model_v2_hyperparameter_tuned.csv\")\n",
    "te_model_path = \"te_weekly_model_v2_hyperparameter_tuned.cbm\""
   ]
  },
  {
   "cell_type": "markdown",
   "id": "78f4ad88-8b93-498c-a81b-71f60986fb63",
   "metadata": {},
   "source": [
    "#### Make predictions for all players"
   ]
  },
  {
   "cell_type": "code",
   "execution_count": null,
   "id": "23b2129a-546c-4936-8808-387c18b3d2e1",
   "metadata": {
    "tags": []
   },
   "outputs": [],
   "source": [
    "df_qb_preds = make_predictions(qb_model_path,qb_features_df,df_qbs_fe,\"QB\",df_rosters[df_rosters[\"season\"]==2023])\n",
    "df_rb_preds = make_predictions(rb_model_path,rb_features_df,df_rbs_fe,\"RB\",df_rosters[df_rosters[\"season\"]==2023])\n",
    "df_wr_preds = make_predictions(wr_model_path,wr_features_df,df_wrs_fe,\"WR\",df_rosters[df_rosters[\"season\"]==2023])\n",
    "df_te_preds = make_predictions(te_model_path,te_features_df,df_tes_fe,\"TE\",df_rosters[df_rosters[\"season\"]==2023])"
   ]
  },
  {
   "cell_type": "markdown",
   "id": "ff22c852-a667-4b05-b80d-ff3c2ba41eef",
   "metadata": {},
   "source": [
    "#### Get all available players on eihter your team or in free agency. Currently supported platforms: \n",
    "##### 1. ESPN\n",
    "##### 2. Sleeper\n",
    "##### 3. Yahoo "
   ]
  },
  {
   "cell_type": "code",
   "execution_count": null,
   "id": "5ef8e1ba-7fdb-4105-b92d-c5528f604388",
   "metadata": {
    "tags": []
   },
   "outputs": [],
   "source": [
    "df_team,df_roster_max = determine_fantasy_engine(df_ids)"
   ]
  },
  {
   "cell_type": "markdown",
   "id": "fc15aa68-4a5e-4b58-b706-db583ef9f6e1",
   "metadata": {},
   "source": [
    "#### Currently not including kickers, bench, or defense"
   ]
  },
  {
   "cell_type": "code",
   "execution_count": null,
   "id": "186ff7b5-906d-4304-a17e-ad124fc0a220",
   "metadata": {
    "tags": []
   },
   "outputs": [],
   "source": [
    "df_roster_max = df_roster_max[(df_roster_max[\"position\"]!=\"BE\") & (df_roster_max[\"position\"]!=\"D/ST\") & (df_roster_max[\"position\"]!=\"K\")]"
   ]
  },
  {
   "cell_type": "markdown",
   "id": "fba24d23-2134-4c78-a08e-43e55f6acb7d",
   "metadata": {},
   "source": [
    "#### Determine the optimal roster based on points"
   ]
  },
  {
   "cell_type": "code",
   "execution_count": null,
   "id": "62aa463d-c8db-4adf-81bc-786e5fd3afb0",
   "metadata": {
    "tags": []
   },
   "outputs": [],
   "source": [
    "df_best_qb,df_best_rb,df_best_wr,df_best_te,df_best_flex = determine_optimal_roster(df_qb_preds,\n",
    "                                                                                    df_rb_preds,df_wr_preds,\n",
    "                                                                                    df_te_preds,df_team,df_roster_max)"
   ]
  },
  {
   "cell_type": "markdown",
   "id": "4e95de31-4ebe-4b26-a6ed-a581c536e205",
   "metadata": {},
   "source": [
    "#### Print out optimal roster from my prediction"
   ]
  },
  {
   "cell_type": "code",
   "execution_count": null,
   "id": "79fce893-ddcf-4a46-92cd-945cdef1a32b",
   "metadata": {
    "tags": []
   },
   "outputs": [],
   "source": [
    "print_optimal_roster(df_best_qb)\n",
    "print_optimal_roster(df_best_rb)\n",
    "print_optimal_roster(df_best_wr)\n",
    "print_optimal_roster(df_best_te)\n",
    "print_optimal_roster(df_best_flex,flex=True)"
   ]
  },
  {
   "cell_type": "markdown",
   "id": "9c9ea770-ad17-4a71-945f-cca42c3ceca7",
   "metadata": {},
   "source": [
    "#### Print out predictions for a single player"
   ]
  },
  {
   "cell_type": "code",
   "execution_count": null,
   "id": "581ba020-daf8-49f6-a6bf-a0b34b300026",
   "metadata": {
    "tags": []
   },
   "outputs": [],
   "source": [
    "df_use = df_te_preds\n",
    "player_name = \"Dalton Schultz\""
   ]
  },
  {
   "cell_type": "code",
   "execution_count": null,
   "id": "48f6dc0d-d113-4923-a02a-90ce3bc9ab72",
   "metadata": {
    "tags": []
   },
   "outputs": [],
   "source": [
    "print_player_predictions(df_use,player_name)"
   ]
  },
  {
   "cell_type": "code",
   "execution_count": null,
   "id": "03e946f9-8cae-46c5-8633-79d99e6ea64a",
   "metadata": {},
   "outputs": [],
   "source": []
  }
 ],
 "metadata": {
  "environment": {
   "kernel": "python3",
   "name": "common-cpu.m109",
   "type": "gcloud",
   "uri": "gcr.io/deeplearning-platform-release/base-cpu:m109"
  },
  "kernelspec": {
   "display_name": "Python 3 (ipykernel)",
   "language": "python",
   "name": "python3"
  },
  "language_info": {
   "codemirror_mode": {
    "name": "ipython",
    "version": 3
   },
   "file_extension": ".py",
   "mimetype": "text/x-python",
   "name": "python",
   "nbconvert_exporter": "python",
   "pygments_lexer": "ipython3",
   "version": "3.11.3"
  }
 },
 "nbformat": 4,
 "nbformat_minor": 5
}
